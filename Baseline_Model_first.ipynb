{
  "nbformat": 4,
  "nbformat_minor": 0,
  "metadata": {
    "colab": {
      "provenance": [],
      "include_colab_link": true
    },
    "kernelspec": {
      "name": "python3",
      "display_name": "Python 3"
    },
    "language_info": {
      "name": "python"
    },
    "accelerator": "GPU",
    "gpuClass": "standard"
  },
  "cells": [
    {
      "cell_type": "markdown",
      "metadata": {
        "id": "view-in-github",
        "colab_type": "text"
      },
      "source": [
        "<a href=\"https://colab.research.google.com/github/Mounia-ch/louder_hands/blob/Data_exploration/Baseline_Model_first.ipynb\" target=\"_parent\"><img src=\"https://colab.research.google.com/assets/colab-badge.svg\" alt=\"Open In Colab\"/></a>"
      ]
    },
    {
      "cell_type": "code",
      "execution_count": null,
      "metadata": {
        "id": "A_oILjCSFnRF"
      },
      "outputs": [],
      "source": [
        "from google.colab import drive\n",
        "import numpy as np\n",
        "import pandas as pd\n",
        "import matplotlib.pyplot as plt\n",
        "import seaborn as sns\n",
        "import string\n",
        "from sklearn.preprocessing import OneHotEncoder\n",
        "from tensorflow.keras import models, layers\n",
        "from tensorflow.keras.callbacks import EarlyStopping\n",
        "from tensorflow.keras.preprocessing import image_dataset_from_directory\n",
        "from tensorflow.keras.utils import to_categorical\n",
        "from tensorflow.keras.layers.experimental.preprocessing import Rescaling\n",
        "from tensorflow.keras.backend import expand_dims\n",
        "from mlxtend.plotting import plot_confusion_matrix\n",
        "from sklearn.metrics import confusion_matrix"
      ]
    },
    {
      "cell_type": "markdown",
      "source": [
        "**Import MNIST dataset in CSV format**"
      ],
      "metadata": {
        "id": "fpUHtBfnajH3"
      }
    },
    {
      "cell_type": "code",
      "source": [
        "drive.mount('/content/gdrive', force_remount = True)"
      ],
      "metadata": {
        "colab": {
          "base_uri": "https://localhost:8080/"
        },
        "id": "m_GhgOy9WXbU",
        "outputId": "bc999d56-b8d0-4677-b1c4-3905f78c25b3"
      },
      "execution_count": null,
      "outputs": [
        {
          "output_type": "stream",
          "name": "stdout",
          "text": [
            "Mounted at /content/gdrive\n"
          ]
        }
      ]
    },
    {
      "cell_type": "code",
      "source": [
        "path = '/content/gdrive/MyDrive/Louder_Hands/data/mnist/'"
      ],
      "metadata": {
        "id": "lm2Y7zoJWhSM"
      },
      "execution_count": null,
      "outputs": []
    },
    {
      "cell_type": "code",
      "source": [
        " # Import train data csv format\n",
        "train_data = pd.read_csv(path + 'sign_mnist_train.csv')\n",
        "train_data.shape"
      ],
      "metadata": {
        "colab": {
          "base_uri": "https://localhost:8080/"
        },
        "id": "VqBg8PUDI6ut",
        "outputId": "d85490dc-ea3f-4852-81c0-00906cd7f1e3"
      },
      "execution_count": null,
      "outputs": [
        {
          "output_type": "execute_result",
          "data": {
            "text/plain": [
              "(27455, 785)"
            ]
          },
          "metadata": {},
          "execution_count": 5
        }
      ]
    },
    {
      "cell_type": "code",
      "source": [
        "train_data.head(2)"
      ],
      "metadata": {
        "colab": {
          "base_uri": "https://localhost:8080/",
          "height": 141
        },
        "id": "Z1EB8Zxy2E4p",
        "outputId": "02c958ad-0d17-41d2-ea81-76b8218468e5"
      },
      "execution_count": null,
      "outputs": [
        {
          "output_type": "execute_result",
          "data": {
            "text/plain": [
              "   label  pixel1  pixel2  pixel3  pixel4  pixel5  pixel6  pixel7  pixel8  \\\n",
              "0      3     107     118     127     134     139     143     146     150   \n",
              "1      6     155     157     156     156     156     157     156     158   \n",
              "\n",
              "   pixel9  ...  pixel775  pixel776  pixel777  pixel778  pixel779  pixel780  \\\n",
              "0     153  ...       207       207       207       207       206       206   \n",
              "1     158  ...        69       149       128        87        94       163   \n",
              "\n",
              "   pixel781  pixel782  pixel783  pixel784  \n",
              "0       206       204       203       202  \n",
              "1       175       103       135       149  \n",
              "\n",
              "[2 rows x 785 columns]"
            ],
            "text/html": [
              "\n",
              "  <div id=\"df-f4f91af0-cc55-429f-a260-0b4978950c05\">\n",
              "    <div class=\"colab-df-container\">\n",
              "      <div>\n",
              "<style scoped>\n",
              "    .dataframe tbody tr th:only-of-type {\n",
              "        vertical-align: middle;\n",
              "    }\n",
              "\n",
              "    .dataframe tbody tr th {\n",
              "        vertical-align: top;\n",
              "    }\n",
              "\n",
              "    .dataframe thead th {\n",
              "        text-align: right;\n",
              "    }\n",
              "</style>\n",
              "<table border=\"1\" class=\"dataframe\">\n",
              "  <thead>\n",
              "    <tr style=\"text-align: right;\">\n",
              "      <th></th>\n",
              "      <th>label</th>\n",
              "      <th>pixel1</th>\n",
              "      <th>pixel2</th>\n",
              "      <th>pixel3</th>\n",
              "      <th>pixel4</th>\n",
              "      <th>pixel5</th>\n",
              "      <th>pixel6</th>\n",
              "      <th>pixel7</th>\n",
              "      <th>pixel8</th>\n",
              "      <th>pixel9</th>\n",
              "      <th>...</th>\n",
              "      <th>pixel775</th>\n",
              "      <th>pixel776</th>\n",
              "      <th>pixel777</th>\n",
              "      <th>pixel778</th>\n",
              "      <th>pixel779</th>\n",
              "      <th>pixel780</th>\n",
              "      <th>pixel781</th>\n",
              "      <th>pixel782</th>\n",
              "      <th>pixel783</th>\n",
              "      <th>pixel784</th>\n",
              "    </tr>\n",
              "  </thead>\n",
              "  <tbody>\n",
              "    <tr>\n",
              "      <th>0</th>\n",
              "      <td>3</td>\n",
              "      <td>107</td>\n",
              "      <td>118</td>\n",
              "      <td>127</td>\n",
              "      <td>134</td>\n",
              "      <td>139</td>\n",
              "      <td>143</td>\n",
              "      <td>146</td>\n",
              "      <td>150</td>\n",
              "      <td>153</td>\n",
              "      <td>...</td>\n",
              "      <td>207</td>\n",
              "      <td>207</td>\n",
              "      <td>207</td>\n",
              "      <td>207</td>\n",
              "      <td>206</td>\n",
              "      <td>206</td>\n",
              "      <td>206</td>\n",
              "      <td>204</td>\n",
              "      <td>203</td>\n",
              "      <td>202</td>\n",
              "    </tr>\n",
              "    <tr>\n",
              "      <th>1</th>\n",
              "      <td>6</td>\n",
              "      <td>155</td>\n",
              "      <td>157</td>\n",
              "      <td>156</td>\n",
              "      <td>156</td>\n",
              "      <td>156</td>\n",
              "      <td>157</td>\n",
              "      <td>156</td>\n",
              "      <td>158</td>\n",
              "      <td>158</td>\n",
              "      <td>...</td>\n",
              "      <td>69</td>\n",
              "      <td>149</td>\n",
              "      <td>128</td>\n",
              "      <td>87</td>\n",
              "      <td>94</td>\n",
              "      <td>163</td>\n",
              "      <td>175</td>\n",
              "      <td>103</td>\n",
              "      <td>135</td>\n",
              "      <td>149</td>\n",
              "    </tr>\n",
              "  </tbody>\n",
              "</table>\n",
              "<p>2 rows × 785 columns</p>\n",
              "</div>\n",
              "      <button class=\"colab-df-convert\" onclick=\"convertToInteractive('df-f4f91af0-cc55-429f-a260-0b4978950c05')\"\n",
              "              title=\"Convert this dataframe to an interactive table.\"\n",
              "              style=\"display:none;\">\n",
              "        \n",
              "  <svg xmlns=\"http://www.w3.org/2000/svg\" height=\"24px\"viewBox=\"0 0 24 24\"\n",
              "       width=\"24px\">\n",
              "    <path d=\"M0 0h24v24H0V0z\" fill=\"none\"/>\n",
              "    <path d=\"M18.56 5.44l.94 2.06.94-2.06 2.06-.94-2.06-.94-.94-2.06-.94 2.06-2.06.94zm-11 1L8.5 8.5l.94-2.06 2.06-.94-2.06-.94L8.5 2.5l-.94 2.06-2.06.94zm10 10l.94 2.06.94-2.06 2.06-.94-2.06-.94-.94-2.06-.94 2.06-2.06.94z\"/><path d=\"M17.41 7.96l-1.37-1.37c-.4-.4-.92-.59-1.43-.59-.52 0-1.04.2-1.43.59L10.3 9.45l-7.72 7.72c-.78.78-.78 2.05 0 2.83L4 21.41c.39.39.9.59 1.41.59.51 0 1.02-.2 1.41-.59l7.78-7.78 2.81-2.81c.8-.78.8-2.07 0-2.86zM5.41 20L4 18.59l7.72-7.72 1.47 1.35L5.41 20z\"/>\n",
              "  </svg>\n",
              "      </button>\n",
              "      \n",
              "  <style>\n",
              "    .colab-df-container {\n",
              "      display:flex;\n",
              "      flex-wrap:wrap;\n",
              "      gap: 12px;\n",
              "    }\n",
              "\n",
              "    .colab-df-convert {\n",
              "      background-color: #E8F0FE;\n",
              "      border: none;\n",
              "      border-radius: 50%;\n",
              "      cursor: pointer;\n",
              "      display: none;\n",
              "      fill: #1967D2;\n",
              "      height: 32px;\n",
              "      padding: 0 0 0 0;\n",
              "      width: 32px;\n",
              "    }\n",
              "\n",
              "    .colab-df-convert:hover {\n",
              "      background-color: #E2EBFA;\n",
              "      box-shadow: 0px 1px 2px rgba(60, 64, 67, 0.3), 0px 1px 3px 1px rgba(60, 64, 67, 0.15);\n",
              "      fill: #174EA6;\n",
              "    }\n",
              "\n",
              "    [theme=dark] .colab-df-convert {\n",
              "      background-color: #3B4455;\n",
              "      fill: #D2E3FC;\n",
              "    }\n",
              "\n",
              "    [theme=dark] .colab-df-convert:hover {\n",
              "      background-color: #434B5C;\n",
              "      box-shadow: 0px 1px 3px 1px rgba(0, 0, 0, 0.15);\n",
              "      filter: drop-shadow(0px 1px 2px rgba(0, 0, 0, 0.3));\n",
              "      fill: #FFFFFF;\n",
              "    }\n",
              "  </style>\n",
              "\n",
              "      <script>\n",
              "        const buttonEl =\n",
              "          document.querySelector('#df-f4f91af0-cc55-429f-a260-0b4978950c05 button.colab-df-convert');\n",
              "        buttonEl.style.display =\n",
              "          google.colab.kernel.accessAllowed ? 'block' : 'none';\n",
              "\n",
              "        async function convertToInteractive(key) {\n",
              "          const element = document.querySelector('#df-f4f91af0-cc55-429f-a260-0b4978950c05');\n",
              "          const dataTable =\n",
              "            await google.colab.kernel.invokeFunction('convertToInteractive',\n",
              "                                                     [key], {});\n",
              "          if (!dataTable) return;\n",
              "\n",
              "          const docLinkHtml = 'Like what you see? Visit the ' +\n",
              "            '<a target=\"_blank\" href=https://colab.research.google.com/notebooks/data_table.ipynb>data table notebook</a>'\n",
              "            + ' to learn more about interactive tables.';\n",
              "          element.innerHTML = '';\n",
              "          dataTable['output_type'] = 'display_data';\n",
              "          await google.colab.output.renderOutput(dataTable, element);\n",
              "          const docLink = document.createElement('div');\n",
              "          docLink.innerHTML = docLinkHtml;\n",
              "          element.appendChild(docLink);\n",
              "        }\n",
              "      </script>\n",
              "    </div>\n",
              "  </div>\n",
              "  "
            ]
          },
          "metadata": {},
          "execution_count": 6
        }
      ]
    },
    {
      "cell_type": "code",
      "source": [
        "#X_train creation\n",
        "X_train = train_data.drop(columns = 'label')\n",
        "X_train.shape"
      ],
      "metadata": {
        "id": "hLWPWpkOznt-",
        "colab": {
          "base_uri": "https://localhost:8080/"
        },
        "outputId": "e6ee2c42-d41a-46de-f425-a10e728a136f"
      },
      "execution_count": null,
      "outputs": [
        {
          "output_type": "execute_result",
          "data": {
            "text/plain": [
              "(27455, 784)"
            ]
          },
          "metadata": {},
          "execution_count": 7
        }
      ]
    },
    {
      "cell_type": "code",
      "source": [
        " # Import test data csv format\n",
        "test_data = pd.read_csv(path + 'sign_mnist_test.csv')\n",
        "test_data.shape"
      ],
      "metadata": {
        "colab": {
          "base_uri": "https://localhost:8080/"
        },
        "id": "86YmMjk1hHTz",
        "outputId": "7b009ea8-afb6-407c-d273-d4ca165d1ff6"
      },
      "execution_count": null,
      "outputs": [
        {
          "output_type": "execute_result",
          "data": {
            "text/plain": [
              "(7172, 785)"
            ]
          },
          "metadata": {},
          "execution_count": 8
        }
      ]
    },
    {
      "cell_type": "code",
      "source": [
        "test_data.head(2)"
      ],
      "metadata": {
        "colab": {
          "base_uri": "https://localhost:8080/",
          "height": 141
        },
        "id": "n8sIl_78hb6K",
        "outputId": "690eec03-f11c-46ab-f4f5-a60210a5f0ba"
      },
      "execution_count": null,
      "outputs": [
        {
          "output_type": "execute_result",
          "data": {
            "text/plain": [
              "   label  pixel1  pixel2  pixel3  pixel4  pixel5  pixel6  pixel7  pixel8  \\\n",
              "0      6     149     149     150     150     150     151     151     150   \n",
              "1      5     126     128     131     132     133     134     135     135   \n",
              "\n",
              "   pixel9  ...  pixel775  pixel776  pixel777  pixel778  pixel779  pixel780  \\\n",
              "0     151  ...       138       148       127        89        82        96   \n",
              "1     136  ...        47       104       194       183       186       184   \n",
              "\n",
              "   pixel781  pixel782  pixel783  pixel784  \n",
              "0       106       112       120       107  \n",
              "1       184       184       182       180  \n",
              "\n",
              "[2 rows x 785 columns]"
            ],
            "text/html": [
              "\n",
              "  <div id=\"df-097c7074-364f-4c23-89c1-52d657c01d27\">\n",
              "    <div class=\"colab-df-container\">\n",
              "      <div>\n",
              "<style scoped>\n",
              "    .dataframe tbody tr th:only-of-type {\n",
              "        vertical-align: middle;\n",
              "    }\n",
              "\n",
              "    .dataframe tbody tr th {\n",
              "        vertical-align: top;\n",
              "    }\n",
              "\n",
              "    .dataframe thead th {\n",
              "        text-align: right;\n",
              "    }\n",
              "</style>\n",
              "<table border=\"1\" class=\"dataframe\">\n",
              "  <thead>\n",
              "    <tr style=\"text-align: right;\">\n",
              "      <th></th>\n",
              "      <th>label</th>\n",
              "      <th>pixel1</th>\n",
              "      <th>pixel2</th>\n",
              "      <th>pixel3</th>\n",
              "      <th>pixel4</th>\n",
              "      <th>pixel5</th>\n",
              "      <th>pixel6</th>\n",
              "      <th>pixel7</th>\n",
              "      <th>pixel8</th>\n",
              "      <th>pixel9</th>\n",
              "      <th>...</th>\n",
              "      <th>pixel775</th>\n",
              "      <th>pixel776</th>\n",
              "      <th>pixel777</th>\n",
              "      <th>pixel778</th>\n",
              "      <th>pixel779</th>\n",
              "      <th>pixel780</th>\n",
              "      <th>pixel781</th>\n",
              "      <th>pixel782</th>\n",
              "      <th>pixel783</th>\n",
              "      <th>pixel784</th>\n",
              "    </tr>\n",
              "  </thead>\n",
              "  <tbody>\n",
              "    <tr>\n",
              "      <th>0</th>\n",
              "      <td>6</td>\n",
              "      <td>149</td>\n",
              "      <td>149</td>\n",
              "      <td>150</td>\n",
              "      <td>150</td>\n",
              "      <td>150</td>\n",
              "      <td>151</td>\n",
              "      <td>151</td>\n",
              "      <td>150</td>\n",
              "      <td>151</td>\n",
              "      <td>...</td>\n",
              "      <td>138</td>\n",
              "      <td>148</td>\n",
              "      <td>127</td>\n",
              "      <td>89</td>\n",
              "      <td>82</td>\n",
              "      <td>96</td>\n",
              "      <td>106</td>\n",
              "      <td>112</td>\n",
              "      <td>120</td>\n",
              "      <td>107</td>\n",
              "    </tr>\n",
              "    <tr>\n",
              "      <th>1</th>\n",
              "      <td>5</td>\n",
              "      <td>126</td>\n",
              "      <td>128</td>\n",
              "      <td>131</td>\n",
              "      <td>132</td>\n",
              "      <td>133</td>\n",
              "      <td>134</td>\n",
              "      <td>135</td>\n",
              "      <td>135</td>\n",
              "      <td>136</td>\n",
              "      <td>...</td>\n",
              "      <td>47</td>\n",
              "      <td>104</td>\n",
              "      <td>194</td>\n",
              "      <td>183</td>\n",
              "      <td>186</td>\n",
              "      <td>184</td>\n",
              "      <td>184</td>\n",
              "      <td>184</td>\n",
              "      <td>182</td>\n",
              "      <td>180</td>\n",
              "    </tr>\n",
              "  </tbody>\n",
              "</table>\n",
              "<p>2 rows × 785 columns</p>\n",
              "</div>\n",
              "      <button class=\"colab-df-convert\" onclick=\"convertToInteractive('df-097c7074-364f-4c23-89c1-52d657c01d27')\"\n",
              "              title=\"Convert this dataframe to an interactive table.\"\n",
              "              style=\"display:none;\">\n",
              "        \n",
              "  <svg xmlns=\"http://www.w3.org/2000/svg\" height=\"24px\"viewBox=\"0 0 24 24\"\n",
              "       width=\"24px\">\n",
              "    <path d=\"M0 0h24v24H0V0z\" fill=\"none\"/>\n",
              "    <path d=\"M18.56 5.44l.94 2.06.94-2.06 2.06-.94-2.06-.94-.94-2.06-.94 2.06-2.06.94zm-11 1L8.5 8.5l.94-2.06 2.06-.94-2.06-.94L8.5 2.5l-.94 2.06-2.06.94zm10 10l.94 2.06.94-2.06 2.06-.94-2.06-.94-.94-2.06-.94 2.06-2.06.94z\"/><path d=\"M17.41 7.96l-1.37-1.37c-.4-.4-.92-.59-1.43-.59-.52 0-1.04.2-1.43.59L10.3 9.45l-7.72 7.72c-.78.78-.78 2.05 0 2.83L4 21.41c.39.39.9.59 1.41.59.51 0 1.02-.2 1.41-.59l7.78-7.78 2.81-2.81c.8-.78.8-2.07 0-2.86zM5.41 20L4 18.59l7.72-7.72 1.47 1.35L5.41 20z\"/>\n",
              "  </svg>\n",
              "      </button>\n",
              "      \n",
              "  <style>\n",
              "    .colab-df-container {\n",
              "      display:flex;\n",
              "      flex-wrap:wrap;\n",
              "      gap: 12px;\n",
              "    }\n",
              "\n",
              "    .colab-df-convert {\n",
              "      background-color: #E8F0FE;\n",
              "      border: none;\n",
              "      border-radius: 50%;\n",
              "      cursor: pointer;\n",
              "      display: none;\n",
              "      fill: #1967D2;\n",
              "      height: 32px;\n",
              "      padding: 0 0 0 0;\n",
              "      width: 32px;\n",
              "    }\n",
              "\n",
              "    .colab-df-convert:hover {\n",
              "      background-color: #E2EBFA;\n",
              "      box-shadow: 0px 1px 2px rgba(60, 64, 67, 0.3), 0px 1px 3px 1px rgba(60, 64, 67, 0.15);\n",
              "      fill: #174EA6;\n",
              "    }\n",
              "\n",
              "    [theme=dark] .colab-df-convert {\n",
              "      background-color: #3B4455;\n",
              "      fill: #D2E3FC;\n",
              "    }\n",
              "\n",
              "    [theme=dark] .colab-df-convert:hover {\n",
              "      background-color: #434B5C;\n",
              "      box-shadow: 0px 1px 3px 1px rgba(0, 0, 0, 0.15);\n",
              "      filter: drop-shadow(0px 1px 2px rgba(0, 0, 0, 0.3));\n",
              "      fill: #FFFFFF;\n",
              "    }\n",
              "  </style>\n",
              "\n",
              "      <script>\n",
              "        const buttonEl =\n",
              "          document.querySelector('#df-097c7074-364f-4c23-89c1-52d657c01d27 button.colab-df-convert');\n",
              "        buttonEl.style.display =\n",
              "          google.colab.kernel.accessAllowed ? 'block' : 'none';\n",
              "\n",
              "        async function convertToInteractive(key) {\n",
              "          const element = document.querySelector('#df-097c7074-364f-4c23-89c1-52d657c01d27');\n",
              "          const dataTable =\n",
              "            await google.colab.kernel.invokeFunction('convertToInteractive',\n",
              "                                                     [key], {});\n",
              "          if (!dataTable) return;\n",
              "\n",
              "          const docLinkHtml = 'Like what you see? Visit the ' +\n",
              "            '<a target=\"_blank\" href=https://colab.research.google.com/notebooks/data_table.ipynb>data table notebook</a>'\n",
              "            + ' to learn more about interactive tables.';\n",
              "          element.innerHTML = '';\n",
              "          dataTable['output_type'] = 'display_data';\n",
              "          await google.colab.output.renderOutput(dataTable, element);\n",
              "          const docLink = document.createElement('div');\n",
              "          docLink.innerHTML = docLinkHtml;\n",
              "          element.appendChild(docLink);\n",
              "        }\n",
              "      </script>\n",
              "    </div>\n",
              "  </div>\n",
              "  "
            ]
          },
          "metadata": {},
          "execution_count": 9
        }
      ]
    },
    {
      "cell_type": "code",
      "source": [
        "#X_test creation\n",
        "X_test = test_data.drop(columns = 'label')\n",
        "X_test.shape"
      ],
      "metadata": {
        "colab": {
          "base_uri": "https://localhost:8080/"
        },
        "id": "n6PTVh8UjFG7",
        "outputId": "6ff20b81-eb7b-4689-80cd-5cb983b2f54e"
      },
      "execution_count": null,
      "outputs": [
        {
          "output_type": "execute_result",
          "data": {
            "text/plain": [
              "(7172, 784)"
            ]
          },
          "metadata": {},
          "execution_count": 10
        }
      ]
    },
    {
      "cell_type": "code",
      "source": [
        "#cheking for missing values\n",
        "X_train.isnull().sum()"
      ],
      "metadata": {
        "colab": {
          "base_uri": "https://localhost:8080/"
        },
        "id": "gqJCLtOobs_r",
        "outputId": "76e47c5f-1c4d-4a69-a6e5-b882cc4ab455"
      },
      "execution_count": null,
      "outputs": [
        {
          "output_type": "execute_result",
          "data": {
            "text/plain": [
              "pixel1      0\n",
              "pixel2      0\n",
              "pixel3      0\n",
              "pixel4      0\n",
              "pixel5      0\n",
              "           ..\n",
              "pixel780    0\n",
              "pixel781    0\n",
              "pixel782    0\n",
              "pixel783    0\n",
              "pixel784    0\n",
              "Length: 784, dtype: int64"
            ]
          },
          "metadata": {},
          "execution_count": 11
        }
      ]
    },
    {
      "cell_type": "markdown",
      "source": [
        "**Checking target's balance_train_Data**"
      ],
      "metadata": {
        "id": "7oKh-loKbbu7"
      }
    },
    {
      "cell_type": "code",
      "source": [
        "#Y_train creation\n",
        "y_train = train_data['label']\n",
        "np.unique(y_train, return_counts=True)"
      ],
      "metadata": {
        "colab": {
          "base_uri": "https://localhost:8080/"
        },
        "id": "6rOrTS9gXyj6",
        "outputId": "8b681a29-da6b-4bad-dd44-f012cdfe46a0"
      },
      "execution_count": null,
      "outputs": [
        {
          "output_type": "execute_result",
          "data": {
            "text/plain": [
              "(array([ 0,  1,  2,  3,  4,  5,  6,  7,  8, 10, 11, 12, 13, 14, 15, 16, 17,\n",
              "        18, 19, 20, 21, 22, 23, 24]),\n",
              " array([1126, 1010, 1144, 1196,  957, 1204, 1090, 1013, 1162, 1114, 1241,\n",
              "        1055, 1151, 1196, 1088, 1279, 1294, 1199, 1186, 1161, 1082, 1225,\n",
              "        1164, 1118]))"
            ]
          },
          "metadata": {},
          "execution_count": 12
        }
      ]
    },
    {
      "cell_type": "code",
      "source": [
        "# Visualizing the inbalance of the target\n",
        "plt.figure(figsize=(20,10))\n",
        "sns.countplot(y_train)"
      ],
      "metadata": {
        "colab": {
          "base_uri": "https://localhost:8080/",
          "height": 658
        },
        "id": "pqJoXO1uf4J5",
        "outputId": "d6203d0a-b245-44da-9f8d-ab01ccaaed1a"
      },
      "execution_count": null,
      "outputs": [
        {
          "output_type": "stream",
          "name": "stderr",
          "text": [
            "/usr/local/lib/python3.7/dist-packages/seaborn/_decorators.py:43: FutureWarning: Pass the following variable as a keyword arg: x. From version 0.12, the only valid positional argument will be `data`, and passing other arguments without an explicit keyword will result in an error or misinterpretation.\n",
            "  FutureWarning\n"
          ]
        },
        {
          "output_type": "execute_result",
          "data": {
            "text/plain": [
              "<matplotlib.axes._subplots.AxesSubplot at 0x7f594148de10>"
            ]
          },
          "metadata": {},
          "execution_count": 13
        },
        {
          "output_type": "display_data",
          "data": {
            "text/plain": [
              "<Figure size 1440x720 with 1 Axes>"
            ],
            "image/png": "[encoded data removed]"
          },
          "metadata": {
            "needs_background": "light"
          }
        }
      ]
    },
    {
      "cell_type": "markdown",
      "source": [
        "**Checking target_test_Data**"
      ],
      "metadata": {
        "id": "7tObLpK9hzwT"
      }
    },
    {
      "cell_type": "code",
      "source": [
        "#Y_test creation\n",
        "y_test = test_data['label']\n",
        "np.unique(y_test, return_counts=True)"
      ],
      "metadata": {
        "colab": {
          "base_uri": "https://localhost:8080/"
        },
        "id": "QMCQPiyphxQ1",
        "outputId": "279e7c30-3474-43da-c668-e8788820f280"
      },
      "execution_count": null,
      "outputs": [
        {
          "output_type": "execute_result",
          "data": {
            "text/plain": [
              "(array([ 0,  1,  2,  3,  4,  5,  6,  7,  8, 10, 11, 12, 13, 14, 15, 16, 17,\n",
              "        18, 19, 20, 21, 22, 23, 24]),\n",
              " array([331, 432, 310, 245, 498, 247, 348, 436, 288, 331, 209, 394, 291,\n",
              "        246, 347, 164, 144, 246, 248, 266, 346, 206, 267, 332]))"
            ]
          },
          "metadata": {},
          "execution_count": 14
        }
      ]
    },
    {
      "cell_type": "code",
      "source": [
        "# Visualizing the inbalance of the target\n",
        "plt.figure(figsize=(20,10))\n",
        "sns.countplot(y_test)"
      ],
      "metadata": {
        "colab": {
          "base_uri": "https://localhost:8080/",
          "height": 658
        },
        "id": "zSdwW_jEiFXQ",
        "outputId": "3aef71fc-7079-41a6-b242-570a7498e68b"
      },
      "execution_count": null,
      "outputs": [
        {
          "output_type": "stream",
          "name": "stderr",
          "text": [
            "/usr/local/lib/python3.7/dist-packages/seaborn/_decorators.py:43: FutureWarning: Pass the following variable as a keyword arg: x. From version 0.12, the only valid positional argument will be `data`, and passing other arguments without an explicit keyword will result in an error or misinterpretation.\n",
            "  FutureWarning\n"
          ]
        },
        {
          "output_type": "execute_result",
          "data": {
            "text/plain": [
              "<matplotlib.axes._subplots.AxesSubplot at 0x7f59414baa10>"
            ]
          },
          "metadata": {},
          "execution_count": 15
        },
        {
          "output_type": "display_data",
          "data": {
            "text/plain": [
              "<Figure size 1440x720 with 1 Axes>"
            ],
            "image/png": "[encoded data removed]"
          },
          "metadata": {
            "needs_background": "light"
          }
        }
      ]
    },
    {
      "cell_type": "markdown",
      "source": [
        "**Reshaping_Images**"
      ],
      "metadata": {
        "id": "wCQsqzR33zy9"
      }
    },
    {
      "cell_type": "code",
      "source": [
        "#Reshaping Images_train_set\n",
        "images_train = np.array([np.reshape(i,(28,28)) for i in X_train.values])\n",
        "plt.imshow(images_train[0], cmap='gray')"
      ],
      "metadata": {
        "colab": {
          "base_uri": "https://localhost:8080/",
          "height": 282
        },
        "id": "6_OklGvPcfJV",
        "outputId": "58ed4c75-9668-433b-a5fe-7ce1456a226e"
      },
      "execution_count": null,
      "outputs": [
        {
          "output_type": "execute_result",
          "data": {
            "text/plain": [
              "<matplotlib.image.AxesImage at 0x7f5940d87850>"
            ]
          },
          "metadata": {},
          "execution_count": 16
        },
        {
          "output_type": "display_data",
          "data": {
            "text/plain": [
              "<Figure size 432x288 with 1 Axes>"
            ],
            "image/png": "[encoded data removed]"
          },
          "metadata": {
            "needs_background": "light"
          }
        }
      ]
    },
    {
      "cell_type": "code",
      "source": [
        "#Reshaping Images_test_set\n",
        "images_test = np.array([np.reshape(i,(28,28)) for i in X_test.values])\n",
        "plt.imshow(images_test[0], cmap='gray')"
      ],
      "metadata": {
        "colab": {
          "base_uri": "https://localhost:8080/",
          "height": 282
        },
        "id": "9Exyazs5iypd",
        "outputId": "1fc30323-be59-4d83-ab83-fff8707c5904"
      },
      "execution_count": null,
      "outputs": [
        {
          "output_type": "execute_result",
          "data": {
            "text/plain": [
              "<matplotlib.image.AxesImage at 0x7f5940d38950>"
            ]
          },
          "metadata": {},
          "execution_count": 17
        },
        {
          "output_type": "display_data",
          "data": {
            "text/plain": [
              "<Figure size 432x288 with 1 Axes>"
            ],
            "image/png": "[encoded data removed]"
          },
          "metadata": {
            "needs_background": "light"
          }
        }
      ]
    },
    {
      "cell_type": "markdown",
      "source": [
        "**Encoding target**"
      ],
      "metadata": {
        "id": "lbsAJwrc5zkC"
      }
    },
    {
      "cell_type": "code",
      "source": [
        "#Encoding target_train\n",
        "encoder = OneHotEncoder(sparse = False)\n",
        "y_train_encoded = encoder.fit_transform (pd.DataFrame(y_train))"
      ],
      "metadata": {
        "id": "8g00Hkzj9YEy"
      },
      "execution_count": null,
      "outputs": []
    },
    {
      "cell_type": "code",
      "source": [
        "y_train_encoded.shape"
      ],
      "metadata": {
        "colab": {
          "base_uri": "https://localhost:8080/"
        },
        "id": "j2BI4X_d-jKg",
        "outputId": "3b5da275-310e-42bc-a2fe-f714f35c648a"
      },
      "execution_count": null,
      "outputs": [
        {
          "output_type": "execute_result",
          "data": {
            "text/plain": [
              "(27455, 24)"
            ]
          },
          "metadata": {},
          "execution_count": 19
        }
      ]
    },
    {
      "cell_type": "code",
      "source": [
        "#Encoding target_test\n",
        "y_test_encoded = encoder.transform (pd.DataFrame(y_test))"
      ],
      "metadata": {
        "id": "AloyMMI0jXdU"
      },
      "execution_count": null,
      "outputs": []
    },
    {
      "cell_type": "markdown",
      "source": [
        "**Expanding_dim**"
      ],
      "metadata": {
        "id": "IAmSoM6CEPDi"
      }
    },
    {
      "cell_type": "code",
      "source": [
        "# Expanding_dim_train\n",
        "X_train_reshaped = expand_dims(images_train)\n",
        "X_train_reshaped.shape"
      ],
      "metadata": {
        "colab": {
          "base_uri": "https://localhost:8080/"
        },
        "id": "mJLZANtV8vVA",
        "outputId": "a7a91ad7-f5aa-4810-96d6-63ec7c98be30"
      },
      "execution_count": null,
      "outputs": [
        {
          "output_type": "execute_result",
          "data": {
            "text/plain": [
              "TensorShape([27455, 28, 28, 1])"
            ]
          },
          "metadata": {},
          "execution_count": 20
        }
      ]
    },
    {
      "cell_type": "code",
      "source": [
        "# Expanding_dim_test\n",
        "X_test_reshaped = expand_dims(images_test)\n",
        "X_test_reshaped.shape"
      ],
      "metadata": {
        "colab": {
          "base_uri": "https://localhost:8080/"
        },
        "id": "u_ZTuvZuFiSg",
        "outputId": "1daaabcd-02b3-49fd-9bef-6211a30a38f4"
      },
      "execution_count": null,
      "outputs": [
        {
          "output_type": "execute_result",
          "data": {
            "text/plain": [
              "TensorShape([7172, 28, 28, 1])"
            ]
          },
          "metadata": {},
          "execution_count": 21
        }
      ]
    },
    {
      "cell_type": "markdown",
      "source": [
        "**Building the model**"
      ],
      "metadata": {
        "id": "3TR3oEmx9iOd"
      }
    },
    {
      "cell_type": "code",
      "source": [
        "#Initializing_model\n",
        "def initialize_model():\n",
        "    model = models.Sequential()\n",
        "    model.add(Rescaling(1./255, input_shape=(28,28,1)))\n",
        "    model.add(layers.Conv2D(96, (4,4), activation = 'relu', padding = 'same'))\n",
        "    model.add(layers.MaxPool2D(pool_size = (2,2)))\n",
        "    model.add(layers.Conv2D(164, (3,3), activation = 'relu', padding = 'same'))\n",
        "    model.add(layers.MaxPool2D(pool_size = (2,2)))\n",
        "    model.add(layers.Conv2D(96, (2,2), activation = 'relu', padding = 'same'))\n",
        "    model.add(layers.MaxPool2D(pool_size = (2,2)))\n",
        "    model.add(layers.Conv2D(64, (2,2), activation = 'relu', padding = 'same'))\n",
        "    model.add(layers.Flatten())\n",
        "    model.add(layers.Dense(32, activation = 'relu'))\n",
        "    model.add(layers.Dropout(0.2))\n",
        "    model.add(layers.Dense(24, activation = 'softmax'))\n",
        "    return model"
      ],
      "metadata": {
        "id": "_aPYFT1Qmk0A"
      },
      "execution_count": null,
      "outputs": []
    },
    {
      "cell_type": "code",
      "source": [
        "#Compiling the model\n",
        "def compile_model(model):\n",
        "  model.compile( loss = 'categorical_crossentropy', optimizer = 'adam', metrics = 'accuracy')\n",
        "  return model"
      ],
      "metadata": {
        "id": "RTiVChkup9On"
      },
      "execution_count": null,
      "outputs": []
    },
    {
      "cell_type": "code",
      "source": [
        "#fit the model\n",
        "model = initialize_model()\n",
        "model = compile_model(model)\n",
        "es = EarlyStopping( patience = 5, restore_best_weights = True)\n",
        "history = model.fit(X_train_reshaped, y_train_encoded, validation_split = 0.3, epochs =200, batch_size = 32, callbacks = [es])"
      ],
      "metadata": {
        "colab": {
          "base_uri": "https://localhost:8080/"
        },
        "id": "EutmKFXtqF_9",
        "outputId": "8a4256cb-327e-4d79-ee0e-d70fd9a3e08e"
      },
      "execution_count": null,
      "outputs": [
        {
          "output_type": "stream",
          "name": "stdout",
          "text": [
            "Epoch 1/200\n",
            "601/601 [==============================] - 7s 8ms/step - loss: 2.0859 - accuracy: 0.3487 - val_loss: 0.6255 - val_accuracy: 0.8110\n",
            "Epoch 2/200\n",
            "601/601 [==============================] - 4s 6ms/step - loss: 0.6854 - accuracy: 0.7584 - val_loss: 0.1251 - val_accuracy: 0.9737\n",
            "Epoch 3/200\n",
            "601/601 [==============================] - 4s 6ms/step - loss: 0.3890 - accuracy: 0.8611 - val_loss: 0.0745 - val_accuracy: 0.9854\n",
            "Epoch 4/200\n",
            "601/601 [==============================] - 4s 6ms/step - loss: 0.2756 - accuracy: 0.9017 - val_loss: 0.0180 - val_accuracy: 0.9989\n",
            "Epoch 5/200\n",
            "601/601 [==============================] - 5s 9ms/step - loss: 0.2078 - accuracy: 0.9276 - val_loss: 0.0108 - val_accuracy: 0.9994\n",
            "Epoch 6/200\n",
            "601/601 [==============================] - 4s 7ms/step - loss: 0.1752 - accuracy: 0.9384 - val_loss: 0.0124 - val_accuracy: 0.9994\n",
            "Epoch 7/200\n",
            "601/601 [==============================] - 4s 6ms/step - loss: 0.1489 - accuracy: 0.9482 - val_loss: 0.0075 - val_accuracy: 0.9989\n",
            "Epoch 8/200\n",
            "601/601 [==============================] - 4s 7ms/step - loss: 0.1335 - accuracy: 0.9529 - val_loss: 0.0037 - val_accuracy: 0.9999\n",
            "Epoch 9/200\n",
            "601/601 [==============================] - 4s 7ms/step - loss: 0.1309 - accuracy: 0.9542 - val_loss: 0.0129 - val_accuracy: 0.9972\n",
            "Epoch 10/200\n",
            "601/601 [==============================] - 4s 6ms/step - loss: 0.0986 - accuracy: 0.9649 - val_loss: 6.7342e-04 - val_accuracy: 1.0000\n",
            "Epoch 11/200\n",
            "601/601 [==============================] - 4s 6ms/step - loss: 0.0935 - accuracy: 0.9669 - val_loss: 0.0018 - val_accuracy: 0.9998\n",
            "Epoch 12/200\n",
            "601/601 [==============================] - 4s 6ms/step - loss: 0.0830 - accuracy: 0.9713 - val_loss: 6.6568e-04 - val_accuracy: 1.0000\n",
            "Epoch 13/200\n",
            "601/601 [==============================] - 4s 7ms/step - loss: 0.0726 - accuracy: 0.9746 - val_loss: 5.9448e-04 - val_accuracy: 1.0000\n",
            "Epoch 14/200\n",
            "601/601 [==============================] - 4s 6ms/step - loss: 0.0692 - accuracy: 0.9753 - val_loss: 2.8066e-04 - val_accuracy: 1.0000\n",
            "Epoch 15/200\n",
            "601/601 [==============================] - 4s 6ms/step - loss: 0.0616 - accuracy: 0.9782 - val_loss: 0.0027 - val_accuracy: 0.9984\n",
            "Epoch 16/200\n",
            "601/601 [==============================] - 4s 6ms/step - loss: 0.0643 - accuracy: 0.9779 - val_loss: 3.1568e-04 - val_accuracy: 1.0000\n",
            "Epoch 17/200\n",
            "601/601 [==============================] - 4s 6ms/step - loss: 0.0522 - accuracy: 0.9818 - val_loss: 2.6781e-04 - val_accuracy: 1.0000\n",
            "Epoch 18/200\n",
            "601/601 [==============================] - 4s 7ms/step - loss: 0.0448 - accuracy: 0.9838 - val_loss: 4.3782e-04 - val_accuracy: 1.0000\n",
            "Epoch 19/200\n",
            "601/601 [==============================] - 4s 7ms/step - loss: 0.0460 - accuracy: 0.9843 - val_loss: 0.0033 - val_accuracy: 0.9992\n",
            "Epoch 20/200\n",
            "601/601 [==============================] - 4s 6ms/step - loss: 0.0440 - accuracy: 0.9849 - val_loss: 2.4059e-04 - val_accuracy: 1.0000\n",
            "Epoch 21/200\n",
            "601/601 [==============================] - 4s 7ms/step - loss: 0.0353 - accuracy: 0.9876 - val_loss: 5.1788e-04 - val_accuracy: 1.0000\n",
            "Epoch 22/200\n",
            "601/601 [==============================] - 4s 7ms/step - loss: 0.0347 - accuracy: 0.9883 - val_loss: 0.0017 - val_accuracy: 0.9994\n",
            "Epoch 23/200\n",
            "601/601 [==============================] - 4s 6ms/step - loss: 0.0293 - accuracy: 0.9891 - val_loss: 5.4561e-05 - val_accuracy: 1.0000\n",
            "Epoch 24/200\n",
            "601/601 [==============================] - 4s 7ms/step - loss: 0.0354 - accuracy: 0.9885 - val_loss: 0.0011 - val_accuracy: 0.9998\n",
            "Epoch 25/200\n",
            "601/601 [==============================] - 4s 6ms/step - loss: 0.0244 - accuracy: 0.9915 - val_loss: 0.0013 - val_accuracy: 0.9994\n",
            "Epoch 26/200\n",
            "601/601 [==============================] - 4s 7ms/step - loss: 0.0262 - accuracy: 0.9914 - val_loss: 4.2020e-05 - val_accuracy: 1.0000\n",
            "Epoch 27/200\n",
            "601/601 [==============================] - 4s 6ms/step - loss: 0.0295 - accuracy: 0.9906 - val_loss: 6.1242e-04 - val_accuracy: 0.9998\n",
            "Epoch 28/200\n",
            "601/601 [==============================] - 4s 6ms/step - loss: 0.0258 - accuracy: 0.9914 - val_loss: 6.8599e-05 - val_accuracy: 1.0000\n",
            "Epoch 29/200\n",
            "601/601 [==============================] - 4s 7ms/step - loss: 0.0198 - accuracy: 0.9930 - val_loss: 0.0020 - val_accuracy: 0.9994\n",
            "Epoch 30/200\n",
            "601/601 [==============================] - 4s 7ms/step - loss: 0.0226 - accuracy: 0.9922 - val_loss: 4.5086e-04 - val_accuracy: 0.9999\n",
            "Epoch 31/200\n",
            "601/601 [==============================] - 4s 6ms/step - loss: 0.0163 - accuracy: 0.9943 - val_loss: 0.0519 - val_accuracy: 0.9966\n"
          ]
        }
      ]
    },
    {
      "cell_type": "code",
      "source": [
        "#model_summary\n",
        "model.summary()"
      ],
      "metadata": {
        "colab": {
          "base_uri": "https://localhost:8080/"
        },
        "id": "jpE2dOczY8uD",
        "outputId": "67b0cf67-1f51-426a-bea5-333fbb8719ae"
      },
      "execution_count": null,
      "outputs": [
        {
          "output_type": "stream",
          "name": "stdout",
          "text": [
            "Model: \"sequential\"\n",
            "_________________________________________________________________\n",
            " Layer (type)                Output Shape              Param #   \n",
            "=================================================================\n",
            " rescaling (Rescaling)       (None, 28, 28, 1)         0         \n",
            "                                                                 \n",
            " conv2d (Conv2D)             (None, 28, 28, 96)        1632      \n",
            "                                                                 \n",
            " max_pooling2d (MaxPooling2D  (None, 14, 14, 96)       0         \n",
            " )                                                               \n",
            "                                                                 \n",
            " conv2d_1 (Conv2D)           (None, 14, 14, 164)       141860    \n",
            "                                                                 \n",
            " max_pooling2d_1 (MaxPooling  (None, 7, 7, 164)        0         \n",
            " 2D)                                                             \n",
            "                                                                 \n",
            " conv2d_2 (Conv2D)           (None, 7, 7, 96)          63072     \n",
            "                                                                 \n",
            " max_pooling2d_2 (MaxPooling  (None, 3, 3, 96)         0         \n",
            " 2D)                                                             \n",
            "                                                                 \n",
            " conv2d_3 (Conv2D)           (None, 3, 3, 64)          24640     \n",
            "                                                                 \n",
            " flatten (Flatten)           (None, 576)               0         \n",
            "                                                                 \n",
            " dense (Dense)               (None, 32)                18464     \n",
            "                                                                 \n",
            " dropout (Dropout)           (None, 32)                0         \n",
            "                                                                 \n",
            " dense_1 (Dense)             (None, 24)                792       \n",
            "                                                                 \n",
            "=================================================================\n",
            "Total params: 250,460\n",
            "Trainable params: 250,460\n",
            "Non-trainable params: 0\n",
            "_________________________________________________________________\n"
          ]
        }
      ]
    },
    {
      "cell_type": "code",
      "source": [
        "#plotting function\n",
        "def plot_history(history, title='', axs=None, exp_name=\"\"):\n",
        "    if axs is not None:\n",
        "        ax1, ax2 = axs\n",
        "    else:\n",
        "        f, (ax1, ax2) = plt.subplots(1, 2, figsize=(12, 4))\n",
        "    \n",
        "    if len(exp_name) > 0 and exp_name[0] != '_':\n",
        "        exp_name = '_' + exp_name\n",
        "    ax1.plot(history.history['loss'], label = 'train' + exp_name)\n",
        "    ax1.plot(history.history['val_loss'], label = 'val' + exp_name)\n",
        "    ax1.set_ylim(-0.1, 2)\n",
        "    ax1.set_title('loss')\n",
        "    ax1.legend()\n",
        "\n",
        "    ax2.plot(history.history['accuracy'], label='train accuracy'  + exp_name)\n",
        "    ax2.plot(history.history['val_accuracy'], label='val accuracy'  + exp_name)\n",
        "    ax2.set_ylim(0.25, 1.2)\n",
        "    ax2.set_title('Accuracy')\n",
        "    ax2.legend()\n",
        "    return (ax1, ax2)"
      ],
      "metadata": {
        "id": "9_fVN76HlbuA"
      },
      "execution_count": null,
      "outputs": []
    },
    {
      "cell_type": "code",
      "source": [
        "#visualizing_fitting_results (first_model)\n",
        "plot_history(history)"
      ],
      "metadata": {
        "colab": {
          "base_uri": "https://localhost:8080/",
          "height": 316
        },
        "id": "GbFGMfONl3km",
        "outputId": "f9c4e59f-05a8-4147-bebb-d9f044eaef33"
      },
      "execution_count": null,
      "outputs": [
        {
          "output_type": "execute_result",
          "data": {
            "text/plain": [
              "(<matplotlib.axes._subplots.AxesSubplot at 0x7f58dc2be7d0>,\n",
              " <matplotlib.axes._subplots.AxesSubplot at 0x7f58dc2e06d0>)"
            ]
          },
          "metadata": {},
          "execution_count": 27
        },
        {
          "output_type": "display_data",
          "data": {
            "text/plain": [
              "<Figure size 864x288 with 2 Axes>"
            ],
            "image/png": "[encoded data removed]"
          },
          "metadata": {
            "needs_background": "light"
          }
        }
      ]
    },
    {
      "cell_type": "code",
      "source": [
        "#evaluate the model\n",
        "model.evaluate(X_test_reshaped, y_test_encoded)"
      ],
      "metadata": {
        "colab": {
          "base_uri": "https://localhost:8080/"
        },
        "id": "pS-YXzCtGLFf",
        "outputId": "e22cd0dc-0819-4a99-e5a0-78f67eda1720"
      },
      "execution_count": null,
      "outputs": [
        {
          "output_type": "stream",
          "name": "stdout",
          "text": [
            "225/225 [==============================] - 1s 4ms/step - loss: 0.4630 - accuracy: 0.9279\n"
          ]
        },
        {
          "output_type": "execute_result",
          "data": {
            "text/plain": [
              "[0.46300625801086426, 0.9279140830039978]"
            ]
          },
          "metadata": {},
          "execution_count": 30
        }
      ]
    },
    {
      "cell_type": "code",
      "source": [
        "#model_prediction\n",
        "y_pred_encoded = model.predict(X_test_reshaped)"
      ],
      "metadata": {
        "colab": {
          "base_uri": "https://localhost:8080/"
        },
        "id": "iRas-cymqw-Z",
        "outputId": "0d79d4bf-457f-4109-b745-7cf491117d48"
      },
      "execution_count": null,
      "outputs": [
        {
          "output_type": "stream",
          "name": "stdout",
          "text": [
            "225/225 [==============================] - 1s 2ms/step\n"
          ]
        }
      ]
    },
    {
      "cell_type": "markdown",
      "source": [
        "**Plotting_Confusion_Matrix**"
      ],
      "metadata": {
        "id": "q7R45TnY9nB1"
      }
    },
    {
      "cell_type": "code",
      "source": [
        "y_pred= encoder.inverse_transform(y_pred_encoded)\n",
        "Y_pred_ref = pd.Series(y_pred.flatten())"
      ],
      "metadata": {
        "id": "Up6K-2kjrFSX"
      },
      "execution_count": null,
      "outputs": []
    },
    {
      "cell_type": "code",
      "source": [
        "import string\n",
        "alphabet = list(string.ascii_lowercase)"
      ],
      "metadata": {
        "id": "XnUb5ALJ2gFq"
      },
      "execution_count": null,
      "outputs": []
    },
    {
      "cell_type": "code",
      "source": [
        "labels = ['a','b','c','d','e','f','g','h','i','k','l','m','n','o','p','q','r','s','t','u','v','w','x','y']"
      ],
      "metadata": {
        "id": "NWKimzkF3Xs_"
      },
      "execution_count": null,
      "outputs": []
    },
    {
      "cell_type": "code",
      "source": [
        "mat = confusion_matrix(y_test, Y_pred_ref)\n",
        "plot_confusion_matrix(conf_mat=mat,figsize=(15,15),class_names=labels, show_normed=False)"
      ],
      "metadata": {
        "colab": {
          "base_uri": "https://localhost:8080/",
          "height": 916
        },
        "id": "pIt0dQBE1whR",
        "outputId": "f8958059-81f1-4519-f615-dff414af1ca2"
      },
      "execution_count": null,
      "outputs": [
        {
          "output_type": "execute_result",
          "data": {
            "text/plain": [
              "(<Figure size 1080x1080 with 1 Axes>,\n",
              " <matplotlib.axes._subplots.AxesSubplot at 0x7f5842f31a90>)"
            ]
          },
          "metadata": {},
          "execution_count": 48
        },
        {
          "output_type": "display_data",
          "data": {
            "text/plain": [
              "<Figure size 1080x1080 with 1 Axes>"
            ],
            "image/png": "[encoded data removed]"
          },
          "metadata": {
            "needs_background": "light"
          }
        }
      ]
    },
    {
      "cell_type": "markdown",
      "source": [
        "**Get Accuracy for each letter**"
      ],
      "metadata": {
        "id": "XFCi3iKFE_4o"
      }
    },
    {
      "cell_type": "code",
      "source": [
        "#Calculating the accuracy for each class\n",
        "per_class_accuracies = {}\n",
        "classes = [0,1,2,3,4,5,6,7,8,10,11,12,13,14,15,16,17,18,19,20,21,22,23,24]\n",
        "for idx, cls in enumerate(classes):\n",
        "    true_negatives = np.sum(np.delete(np.delete(mat, idx, axis=0), idx, axis=1))\n",
        "    true_positives = mat[idx, idx]\n",
        "    # The accuracy for the current class is ratio between correct predictions to all predictions\n",
        "    per_class_accuracies[cls] = (true_positives + true_negatives) / np.sum(mat)"
      ],
      "metadata": {
        "id": "JC-71BPw_qJA"
      },
      "execution_count": null,
      "outputs": []
    },
    {
      "cell_type": "code",
      "source": [
        "per_class_accuracies"
      ],
      "metadata": {
        "colab": {
          "base_uri": "https://localhost:8080/"
        },
        "id": "aeKomfN9BdxS",
        "outputId": "14ec9de3-c15d-4a65-ded5-a909ae73861c"
      },
      "execution_count": null,
      "outputs": [
        {
          "output_type": "execute_result",
          "data": {
            "text/plain": [
              "{0: 0.9931678750697156,\n",
              " 1: 0.9947016174010039,\n",
              " 2: 0.9962353597322923,\n",
              " 3: 0.9972113775794758,\n",
              " 4: 0.9920524261015059,\n",
              " 5: 1.0,\n",
              " 6: 0.9852203011712214,\n",
              " 7: 0.9959564974902398,\n",
              " 8: 0.9972113775794758,\n",
              " 10: 0.9871723368655884,\n",
              " 11: 0.9956776352481874,\n",
              " 12: 0.9889849414389291,\n",
              " 13: 0.9919129949804797,\n",
              " 14: 0.9967930842163971,\n",
              " 15: 0.9972113775794758,\n",
              " 16: 0.9977691020635806,\n",
              " 17: 0.9877300613496932,\n",
              " 18: 0.9942833240379253,\n",
              " 19: 0.9885666480758505,\n",
              " 20: 0.9948410485220301,\n",
              " 21: 0.9938650306748467,\n",
              " 22: 0.9969325153374233,\n",
              " 23: 0.9979085331846068,\n",
              " 24: 0.9944227551589515}"
            ]
          },
          "metadata": {},
          "execution_count": 65
        }
      ]
    },
    {
      "cell_type": "code",
      "source": [
        "plt.figure(figsize=(20,10))\n",
        "#keys = list(per_class_accuracies.keys())\n",
        "vals = list(per_class_accuracies.values())\n",
        "plt.ylim(0.8, 1)\n",
        "sns.barplot(x=labels, y=vals,)"
      ],
      "metadata": {
        "colab": {
          "base_uri": "https://localhost:8080/",
          "height": 612
        },
        "id": "lyiZDQHOBfsc",
        "outputId": "1e8e03fd-114b-481a-82ec-eb32eeaf89d4"
      },
      "execution_count": null,
      "outputs": [
        {
          "output_type": "execute_result",
          "data": {
            "text/plain": [
              "<matplotlib.axes._subplots.AxesSubplot at 0x7f58421fdb10>"
            ]
          },
          "metadata": {},
          "execution_count": 63
        },
        {
          "output_type": "display_data",
          "data": {
            "text/plain": [
              "<Figure size 1440x720 with 1 Axes>"
            ],
            "image/png": "[encoded data removed]"
          },
          "metadata": {
            "needs_background": "light"
          }
        }
      ]
    }
  ]
}